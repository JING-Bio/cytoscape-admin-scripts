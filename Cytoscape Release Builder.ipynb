{
 "cells": [
  {
   "cell_type": "markdown",
   "metadata": {},
   "source": [
    "## Best practices for releases\n",
    "\n",
    "This notebook is a walkthrough of the Cytoscape Release build process. Use the BUILD_PARENT_DIR variable to specify a directory to build cytoscape in.\n",
    "\n",
    "#### NOTE: Make sure BUILD_PARENT_DIR is in `.gitignore`\n",
    "\n",
    "1. Update versions\n",
    "1. Update Core apps to use new API\n",
    "1. Build Installers\n",
    "1. Test on different OSs\n",
    "1. Deploy subrepos to nexus\n",
    "1. Post the installers to http://github.com/cytoscape/cytoscape/releases\n",
    "1. Deploy updated core apps\n",
    "\n",
    "After release:\n",
    "1. Merge the branch used to build installers into master and tag the release\n",
    "1. If master release, update the version in dev branch\n",
    "1. Update Cytoscape manual via https://github.com/cytoscape/cytoscape-manual\n",
    "1. Update www.github.com/cytoscape/cytoscape.github.com (downloads page, roadmap, etc.)\n",
    "1. Update system requirements script at https://github.com/cytoscape/cytoscape-admin-scripts/tree/master/system-checker\n"
   ]
  },
  {
   "cell_type": "code",
   "execution_count": 1,
   "metadata": {},
   "outputs": [],
   "source": [
    "from subprocess import Popen, PIPE\n",
    "import os"
   ]
  },
  {
   "cell_type": "code",
   "execution_count": 5,
   "metadata": {},
   "outputs": [
    {
     "name": "stdout",
     "output_type": "stream",
     "text": [
      "Cloning into 'cytoscape'...\n",
      "remote: Enumerating objects: 507, done.\u001b[K\n",
      "remote: Total 507 (delta 0), reused 0 (delta 0), pack-reused 507\u001b[K\n",
      "Receiving objects: 100% (507/507), 134.12 KiB | 2.31 MiB/s, done.\n",
      "Resolving deltas: 100% (247/247), done.\n"
     ]
    }
   ],
   "source": [
    "# Point to build location (the directory to clone parent cytoscape into)\n",
    "BUILD_PARENT_DIR = os.path.join(os.getcwd(), 'build')\n",
    "if not os.path.exists(BUILD_PARENT_DIR):\n",
    "    os.mkdir(BUILD_PARENT_DIR)\n",
    "\n",
    "os.chdir(BUILD_PARENT_DIR)\n",
    "![[ -d cytoscape ]] || git clone https://github.com/cytoscape/cytoscape\n",
    "CYTOSCAPE_ROOT_DIR = os.path.join(BUILD_PARENT_DIR, 'cytoscape')\n",
    "CYTOSCAPE_DIR = os.path.join(CYTOSCAPE_ROOT_DIR, 'cytoscape')\n",
    "\n",
    "def cd(directory=BUILD_PARENT_DIR, *subdirs):\n",
    "    if subdirs:\n",
    "        directory = os.path.join(directory, *subdirs)\n",
    "    if os.getcwd() != directory:\n",
    "        os.chdir(directory)"
   ]
  },
  {
   "cell_type": "code",
   "execution_count": 6,
   "metadata": {},
   "outputs": [],
   "source": [
    "STARTING_BRANCH = 'develop'     # develop for major release, release/3.X.X for minor release\n",
    "NEW_BRANCH = 'release/3.8.0'    # branch to create that will be deployed\n",
    "OLD_VERSION = '3.8.0-SNAPSHOT'  # Version to replace in maven files\n",
    "NEW_VERSION = '3.8.0'           # New version to set across maven\n",
    "OLD_RELEASE_VERSION = '3.7.1'   # Release Version to replace on website/version checker"
   ]
  },
  {
   "cell_type": "markdown",
   "metadata": {},
   "source": [
    "## 1. Pull the develop branch of Cytoscape"
   ]
  },
  {
   "cell_type": "code",
   "execution_count": 7,
   "metadata": {},
   "outputs": [
    {
     "name": "stdout",
     "output_type": "stream",
     "text": [
      "Target directory = \n",
      "Cytoscape project will be cloned to: /Users/bsettle/Desktop/cytoscape-release/cytoscape-admin-scripts/build/cytoscape\n",
      "Cloning into 'cytoscape'...\n",
      "remote: Enumerating objects: 507, done.\u001b[K\n",
      "remote: Total 507 (delta 0), reused 0 (delta 0), pack-reused 507\u001b[K\n",
      "Receiving objects: 100% (507/507), 134.12 KiB | 1.41 MiB/s, done.\n",
      "Resolving deltas: 100% (247/247), done.\n",
      "Cloning: parent (URI = git@github.com:cytoscape/cytoscape-parent.git)\n",
      "Cloning into 'parent'...\n",
      "remote: Enumerating objects: 1560, done.\u001b[K\n",
      "remote: Total 1560 (delta 0), reused 0 (delta 0), pack-reused 1560\u001b[K\n",
      "Receiving objects: 100% (1560/1560), 241.51 KiB | 1.79 MiB/s, done.\n",
      "Resolving deltas: 100% (579/579), done.\n",
      "~/Desktop/cytoscape-release/cytoscape-admin-scripts/build/cytoscape/cytoscape/parent ~/Desktop/cytoscape-release/cytoscape-admin-scripts/build/cytoscape/cytoscape\n",
      "Already on 'develop'\n",
      "Your branch is up to date with 'origin/develop'.\n",
      "~/Desktop/cytoscape-release/cytoscape-admin-scripts/build/cytoscape/cytoscape\n",
      "Cloning: api (URI = git@github.com:cytoscape/cytoscape-api.git)\n",
      "Cloning into 'api'...\n",
      "remote: Enumerating objects: 24, done.\u001b[K\n",
      "remote: Counting objects: 100% (24/24), done.\u001b[K\n",
      "remote: Compressing objects: 100% (15/15), done.\u001b[K\n",
      "remote: Total 23389 (delta 0), reused 24 (delta 0), pack-reused 23365\u001b[K\n",
      "Receiving objects: 100% (23389/23389), 5.76 MiB | 7.61 MiB/s, done.\n",
      "Resolving deltas: 100% (7519/7519), done.\n",
      "~/Desktop/cytoscape-release/cytoscape-admin-scripts/build/cytoscape/cytoscape/api ~/Desktop/cytoscape-release/cytoscape-admin-scripts/build/cytoscape/cytoscape\n",
      "Already on 'develop'\n",
      "Your branch is up to date with 'origin/develop'.\n",
      "~/Desktop/cytoscape-release/cytoscape-admin-scripts/build/cytoscape/cytoscape\n",
      "Cloning: impl (URI = git@github.com:cytoscape/cytoscape-impl.git)\n",
      "Cloning into 'impl'...\n",
      "remote: Enumerating objects: 816, done.\u001b[K\n",
      "remote: Counting objects: 100% (816/816), done.\u001b[K\n",
      "remote: Compressing objects: 100% (458/458), done.\u001b[K\n",
      "remote: Total 126071 (delta 287), reused 695 (delta 195), pack-reused 125255\u001b[K\n",
      "Receiving objects: 100% (126071/126071), 184.49 MiB | 4.98 MiB/s, done.\n",
      "Resolving deltas: 100% (50887/50887), done.\n",
      "Checking out files: 100% (2825/2825), done.\n",
      "~/Desktop/cytoscape-release/cytoscape-admin-scripts/build/cytoscape/cytoscape/impl ~/Desktop/cytoscape-release/cytoscape-admin-scripts/build/cytoscape/cytoscape\n",
      "Already on 'develop'\n",
      "Your branch is up to date with 'origin/develop'.\n",
      "~/Desktop/cytoscape-release/cytoscape-admin-scripts/build/cytoscape/cytoscape\n",
      "Cloning: support (URI = git@github.com:cytoscape/cytoscape-support.git)\n",
      "Cloning into 'support'...\n",
      "remote: Enumerating objects: 5313, done.\u001b[K\n",
      "remote: Total 5313 (delta 0), reused 0 (delta 0), pack-reused 5313\u001b[K\n",
      "Receiving objects: 100% (5313/5313), 547.70 KiB | 2.99 MiB/s, done.\n",
      "Resolving deltas: 100% (1797/1797), done.\n",
      "~/Desktop/cytoscape-release/cytoscape-admin-scripts/build/cytoscape/cytoscape/support ~/Desktop/cytoscape-release/cytoscape-admin-scripts/build/cytoscape/cytoscape\n",
      "Already on 'develop'\n",
      "Your branch is up to date with 'origin/develop'.\n",
      "~/Desktop/cytoscape-release/cytoscape-admin-scripts/build/cytoscape/cytoscape\n",
      "Cloning: gui-distribution (URI = git@github.com:cytoscape/cytoscape-gui-distribution.git)\n",
      "Cloning into 'gui-distribution'...\n",
      "remote: Enumerating objects: 7, done.\u001b[K\n",
      "remote: Counting objects: 100% (7/7), done.\u001b[K\n",
      "remote: Compressing objects: 100% (6/6), done.\u001b[K\n",
      "remote: Total 5971 (delta 0), reused 4 (delta 0), pack-reused 5964\u001b[K\n",
      "Receiving objects: 100% (5971/5971), 52.76 MiB | 5.72 MiB/s, done.\n",
      "Resolving deltas: 100% (2384/2384), done.\n",
      "~/Desktop/cytoscape-release/cytoscape-admin-scripts/build/cytoscape/cytoscape/gui-distribution ~/Desktop/cytoscape-release/cytoscape-admin-scripts/build/cytoscape/cytoscape\n",
      "Already on 'develop'\n",
      "Your branch is up to date with 'origin/develop'.\n",
      "~/Desktop/cytoscape-release/cytoscape-admin-scripts/build/cytoscape/cytoscape\n",
      "Cloning: app-developer (URI = git@github.com:cytoscape/cytoscape-app-developer.git)\n",
      "Cloning into 'app-developer'...\n",
      "remote: Enumerating objects: 258, done.\u001b[K\n",
      "remote: Total 258 (delta 0), reused 0 (delta 0), pack-reused 258\u001b[K\n",
      "Receiving objects: 100% (258/258), 30.11 KiB | 1.31 MiB/s, done.\n",
      "Resolving deltas: 100% (120/120), done.\n",
      "~/Desktop/cytoscape-release/cytoscape-admin-scripts/build/cytoscape/cytoscape/app-developer ~/Desktop/cytoscape-release/cytoscape-admin-scripts/build/cytoscape/cytoscape\n",
      "Already on 'develop'\n",
      "Your branch is up to date with 'origin/develop'.\n",
      "~/Desktop/cytoscape-release/cytoscape-admin-scripts/build/cytoscape/cytoscape\n",
      "\\n\\n - Finished: here is the current status:\\n\n",
      "------------------------------------------------------------------------\n",
      "- .:\n",
      "\n",
      "On branch develop\n",
      "Your branch is up to date with 'origin/develop'.\n",
      "\n",
      "nothing to commit, working tree clean\n",
      "------------------------------------------------------------------------\n",
      "- parent:\n",
      "\n",
      "On branch develop\n",
      "Your branch is up to date with 'origin/develop'.\n",
      "\n",
      "nothing to commit, working tree clean\n",
      "------------------------------------------------------------------------\n",
      "- api:\n",
      "\n",
      "On branch develop\n",
      "Your branch is up to date with 'origin/develop'.\n",
      "\n",
      "nothing to commit, working tree clean\n",
      "------------------------------------------------------------------------\n",
      "- impl:\n",
      "\n",
      "On branch develop\n",
      "Your branch is up to date with 'origin/develop'.\n",
      "\n",
      "nothing to commit, working tree clean\n",
      "------------------------------------------------------------------------\n",
      "- support:\n",
      "\n",
      "On branch develop\n",
      "Your branch is up to date with 'origin/develop'.\n",
      "\n",
      "nothing to commit, working tree clean\n",
      "------------------------------------------------------------------------\n",
      "- gui-distribution:\n",
      "\n",
      "On branch develop\n",
      "Your branch is up to date with 'origin/develop'.\n",
      "\n",
      "nothing to commit, working tree clean\n",
      "------------------------------------------------------------------------\n",
      "- app-developer:\n",
      "\n",
      "On branch develop\n",
      "Your branch is up to date with 'origin/develop'.\n",
      "\n",
      "nothing to commit, working tree clean\n",
      "------------------------------------------------------------------------\n",
      "------------------------------------------------------------------------\n",
      "Executing command: git checkout release/3.7.1\n",
      "--in .\n",
      "Branch 'release/3.7.1' set up to track remote branch 'release/3.7.1' from 'origin'.\n",
      "Switched to a new branch 'release/3.7.1'\n",
      "------------------------------------------------------------------------\n",
      "--in parent\n",
      "Branch 'release/3.7.1' set up to track remote branch 'release/3.7.1' from 'origin'.\n",
      "Switched to a new branch 'release/3.7.1'\n",
      "------------------------------------------------------------------------\n",
      "--in api\n",
      "Branch 'release/3.7.1' set up to track remote branch 'release/3.7.1' from 'origin'.\n",
      "Switched to a new branch 'release/3.7.1'\n",
      "------------------------------------------------------------------------\n",
      "--in impl\n",
      "Branch 'release/3.7.1' set up to track remote branch 'release/3.7.1' from 'origin'.\n",
      "Switched to a new branch 'release/3.7.1'\n",
      "------------------------------------------------------------------------\n",
      "--in support\n",
      "Branch 'release/3.7.1' set up to track remote branch 'release/3.7.1' from 'origin'.\n",
      "Switched to a new branch 'release/3.7.1'\n",
      "------------------------------------------------------------------------\n",
      "--in gui-distribution\n",
      "Branch 'release/3.7.1' set up to track remote branch 'release/3.7.1' from 'origin'.\n",
      "Switched to a new branch 'release/3.7.1'\n",
      "------------------------------------------------------------------------\n",
      "--in app-developer\n",
      "Branch 'release/3.7.1' set up to track remote branch 'release/3.7.1' from 'origin'.\n",
      "Switched to a new branch 'release/3.7.1'\n",
      "------------------------------------------------------------------------\n"
     ]
    }
   ],
   "source": [
    "cd(CYTOSCAPE_ROOT_DIR)\n",
    "![[ -d cytoscape ]] || ./cy.sh init\n",
    "cd(CYTOSCAPE_DIR)\n",
    "!./cy.sh run-all \"git checkout {STARTING_BRANCH}\""
   ]
  },
  {
   "cell_type": "markdown",
   "metadata": {},
   "source": [
    "## 1a. Reset"
   ]
  },
  {
   "cell_type": "code",
   "execution_count": null,
   "metadata": {},
   "outputs": [],
   "source": [
    "cd(CYTOSCAPE_DIR)\n",
    "!./cy.sh run-all 'git clean -f -d'\n",
    "!./cy.sh run-all 'git reset --hard'"
   ]
  },
  {
   "cell_type": "markdown",
   "metadata": {},
   "source": [
    "## 2. Create new branch locally"
   ]
  },
  {
   "cell_type": "code",
   "execution_count": null,
   "metadata": {},
   "outputs": [],
   "source": [
    "cd(CYTOSCAPE_DIR)\n",
    "!./cy.sh run-all 'git checkout -b {NEW_BRANCH}'\n",
    "!./cy.sh run-all 'git pull'"
   ]
  },
  {
   "cell_type": "code",
   "execution_count": null,
   "metadata": {
    "scrolled": true
   },
   "outputs": [],
   "source": [
    "cd(CYTOSCAPE_DIR)\n",
    "!./cy.sh run-all 'git status'"
   ]
  },
  {
   "cell_type": "markdown",
   "metadata": {},
   "source": [
    "## 3. Update versions in pom files and all documents"
   ]
  },
  {
   "cell_type": "code",
   "execution_count": null,
   "metadata": {
    "scrolled": true
   },
   "outputs": [],
   "source": [
    "cd(CYTOSCAPE_DIR)\n",
    "!mvn versions:set -DnewVersion={NEW_VERSION}"
   ]
  },
  {
   "cell_type": "code",
   "execution_count": null,
   "metadata": {
    "scrolled": true
   },
   "outputs": [],
   "source": [
    "# then update the versions in the parent directory\n",
    "cd(CYTOSCAPE_DIR, 'parent')\n",
    "!mvn versions:set -DnewVersion={NEW_VERSION}"
   ]
  },
  {
   "cell_type": "markdown",
   "metadata": {},
   "source": [
    "## 3a. Commit (or reset) versions in pom files"
   ]
  },
  {
   "cell_type": "code",
   "execution_count": null,
   "metadata": {},
   "outputs": [],
   "source": [
    "cd(CYTOSCAPE_DIR)\n",
    "#!mvn version:revert\n",
    "!mvn versions:commit\n",
    "\n",
    "cd(CYTOSCAPE_DIR, 'parent')\n",
    "#!mvn version:revert\n",
    "!mvn versions:commit"
   ]
  },
  {
   "cell_type": "markdown",
   "metadata": {},
   "source": [
    "## 3b. Update version in other files (poms, executables)"
   ]
  },
  {
   "cell_type": "code",
   "execution_count": null,
   "metadata": {},
   "outputs": [],
   "source": [
    "%%bash -s \"$OLD_VERSION\" \"$NEW_VERSION\"\n",
    "\n",
    "cd {CYTOSCAPE_DIR}\n",
    "\n",
    "echo \"* Updating version numbers in pom files...\"\n",
    "find . -name pom.xml | xargs sed -i \"\" -e \"s/$1/$2/g\"\n",
    "echo \"Done\"\n",
    "\n",
    "echo \"* Updating version numbers in executables...\"\n",
    "ls gui-distribution/assembly/src/main/bin/cytoscape.* | xargs sed -i \"\" -e \"s/$1/$2/g\"\n",
    "echo \"Done\""
   ]
  },
  {
   "cell_type": "code",
   "execution_count": null,
   "metadata": {},
   "outputs": [],
   "source": [
    "# HelpTaskFactory uses hard coded versioning.\n",
    "cd(CYTOSCAPE_DIR, 'impl', 'core-task-impl', 'src', 'main', 'java', 'org', \n",
    "   'cytoscape', 'task', 'internal', 'help')\n",
    "!echo \"* Updating Manual link\"\n",
    "!ls HelpTaskFactory.jav* | xargs sed -i \"\" -e \"s/{OLD_RELEASE_VERSION}/{NEW_VERSION}/g\""
   ]
  },
  {
   "cell_type": "markdown",
   "metadata": {},
   "source": [
    "## 3c. Maven clean and check for outstanding occurrences of old version"
   ]
  },
  {
   "cell_type": "code",
   "execution_count": null,
   "metadata": {
    "scrolled": false
   },
   "outputs": [],
   "source": [
    "!echo \"* Cleaning old installers\"\n",
    "cd(CYTOSCAPE_DIR, 'gui-distribution', 'packaging')\n",
    "!mvn clean -q\n",
    "cd(CYTOSCAPE_DIR, 'gui-distribution', 'splash-launcher')\n",
    "!mvn clean -q\n",
    "!echo \"Done\""
   ]
  },
  {
   "cell_type": "code",
   "execution_count": null,
   "metadata": {
    "scrolled": false
   },
   "outputs": [],
   "source": [
    "cd(CYTOSCAPE_DIR)\n",
    "!echo \"* Showing occurrences of {OLD_VERSION} in `pwd`:\" && grep -ri '{OLD_VERSION}' ."
   ]
  },
  {
   "cell_type": "code",
   "execution_count": null,
   "metadata": {
    "scrolled": false
   },
   "outputs": [],
   "source": [
    "cd(CYTOSCAPE_DIR)\n",
    "!echo \"* Showing occurrences of {OLD_RELEASE_VERSION} in `pwd`:\" && grep -ri '3\\.7\\.0' ."
   ]
  },
  {
   "cell_type": "markdown",
   "metadata": {},
   "source": [
    "## 4. Build Cytoscape and ensure no errors\n",
    "This may take a while. Expect to build subrepos first before building from the root directory"
   ]
  },
  {
   "cell_type": "code",
   "execution_count": null,
   "metadata": {},
   "outputs": [],
   "source": [
    "cd(CYTOSCAPE_DIR)\n",
    "with open('build_output.txt', 'w') as outf:\n",
    "    process = Popen('mvn -fae clean install -Dmaven.test.skip=true'.split(' '), \n",
    "                stdout=outf,\n",
    "                cwd=BUILD_PARENT_DIR)\n",
    "    process.wait()\n",
    "\n",
    "print(\"Showing ERROR lines in build...\")\n",
    "!cat build_output.txt | grep ERROR"
   ]
  },
  {
   "cell_type": "markdown",
   "metadata": {},
   "source": [
    "## 5. Commit changes to new branch"
   ]
  },
  {
   "cell_type": "code",
   "execution_count": null,
   "metadata": {},
   "outputs": [],
   "source": [
    "# if successful, commit the changes\n",
    "cd(CYTOSCAPE_DIR)\n",
    "!./cy.sh run-all 'git add .'\n",
    "!./cy.sh run-all 'git commit -m \"Update version to {NEW_VERSION}\"'"
   ]
  },
  {
   "cell_type": "code",
   "execution_count": null,
   "metadata": {},
   "outputs": [],
   "source": [
    "cd(CYTOSCAPE_DIR)\n",
    "!./cy.sh status"
   ]
  },
  {
   "cell_type": "markdown",
   "metadata": {},
   "source": [
    "## 6. Build Cytoscape installers\n",
    "This requires Install4J to be configured on your machine via the instructions at the Cytoscape README"
   ]
  },
  {
   "cell_type": "code",
   "execution_count": null,
   "metadata": {
    "scrolled": true
   },
   "outputs": [],
   "source": [
    "cd(CYTOSCAPE_DIR, 'gui-distribution', 'packaging')\n",
    "!mvn clean install"
   ]
  },
  {
   "cell_type": "markdown",
   "metadata": {},
   "source": [
    "- Update core apps to rely on deployed releases, test\n",
    "- Deploy and push them to app store\n",
    "- Merge develop into master branch\n",
    "- Tag and release master, publish release\n",
    "- Change dev branch version"
   ]
  },
  {
   "cell_type": "markdown",
   "metadata": {},
   "source": [
    "## 7. Deploy JARs to Nexus\n",
    "\n",
    "- Need to have our repository properly configured in ~/.m2/settings.xml\n",
    "- Cytoscape Project POM will fail. This is expected"
   ]
  },
  {
   "cell_type": "code",
   "execution_count": null,
   "metadata": {},
   "outputs": [],
   "source": [
    "cd(CYTOSCAPE_DIR)\n",
    "!mvn clean deploy"
   ]
  },
  {
   "cell_type": "markdown",
   "metadata": {},
   "source": [
    "## 8. Sign DMG and upload release to github"
   ]
  },
  {
   "cell_type": "code",
   "execution_count": null,
   "metadata": {},
   "outputs": [],
   "source": [
    "cd(CYTOSCAPE_DIR, 'gui-distribution', 'packaging')\n",
    "!./sign-dmg.sh && mv -f target/install4j/signed/*.dmg target/install4j/\n",
    "!rmdir target/install4j/signed"
   ]
  },
  {
   "cell_type": "markdown",
   "metadata": {},
   "source": [
    "#### Create a new release with Cytoscape installers: https://github.com/cytoscape/cytoscape/releases/new"
   ]
  },
  {
   "cell_type": "markdown",
   "metadata": {},
   "source": [
    "## 9. Update Cytoscape.org, manual, and admin-scripts\n",
    "\n",
    "Publish JavaDocs by building http://code.cytoscape.org/jenkins/job/cytoscape-3-javadoc/\n",
    "\n",
    "Generate Release Notes from JIRA https://cytoscape.atlassian.net/projects/CYTOSCAPE"
   ]
  },
  {
   "cell_type": "code",
   "execution_count": null,
   "metadata": {},
   "outputs": [],
   "source": [
    "# Update cytoscape.org\n",
    "\n",
    "cd(BUILD_PARENT_DIR)\n",
    "![[ -d cytoscape.github.com ]] || git clone http://github.com/cytoscape/cytoscape.github.com\n",
    "\n",
    "![[ -d cytoscape-manual ]] || git clone http://github.com/cytoscape/cytoscape-manual"
   ]
  },
  {
   "cell_type": "markdown",
   "metadata": {},
   "source": [
    "### Cytoscape.org changes\n",
    "\n",
    "#### Roadmap\n",
    "cytoscape.github.com/roadmap.html\n",
    "- Remove section from Vision\n",
    "- Move release dates 6-8 months forward\n",
    "- Add section to Bottom of page listing features\n",
    "\n",
    "#### JS Files:\n",
    "- js/download.js\n",
    "  - Copy JSON block to previous versions\n",
    "- js/setup_page.js\n",
    "  - Change release version\n",
    "  \n",
    "#### Welcome Letter\n",
    "- Use template at cellar/users/bsettle/Documents/Cytoscape/Releases/\n",
    "- Must update all sections\n",
    "\n",
    "#### Release Notes\n",
    "- releasenotes.html\n",
    "  - Update welcome letter link\n",
    "  - Update Latest Release Notes and Older Versions list\n",
    "- release_notes_3_X_X.html\n",
    "  - Copied from previous release notes\n",
    "  - Edit HTML sections to add div's about new features\n",
    "  - Add screenshots"
   ]
  },
  {
   "cell_type": "code",
   "execution_count": null,
   "metadata": {},
   "outputs": [],
   "source": [
    "cd(BUILD_PARENT_DIR, 'cytoscape.github.com')\n",
    "!git add .\n",
    "!git commit -m \"Updated for release {NEW_VERSION}\""
   ]
  },
  {
   "cell_type": "markdown",
   "metadata": {},
   "source": [
    "### Manual\n",
    "Refer to https://github.com/cytoscape/cytoscape-manual/ for manual changes and building"
   ]
  },
  {
   "cell_type": "code",
   "execution_count": null,
   "metadata": {},
   "outputs": [],
   "source": [
    "#Change docs/conf.py\n",
    "cd(BUILD_PARENT_DIR, 'cytoscape-manual', 'docs')\n",
    "!ls conf.p* | xargs sed -i \"\" -e \"s/{OLD_RELEASE_VERSION}/{NEW_VERSION}/g\"\n",
    "!git add .\n",
    "!git commit -m \"Updated for {NEW_VERSION} release\"\n",
    "!git push"
   ]
  },
  {
   "cell_type": "markdown",
   "metadata": {},
   "source": [
    "- Update all sections with new features and screenshots\n",
    "#### NOTE: ONLY TAG WHEN READY, Tagging posts the notes to ReadTheDocs\n",
    "\n",
    "Webhooks may be discontinued 1/31/2019. Keep an eye out for auto-building ReadTheDocs"
   ]
  },
  {
   "cell_type": "code",
   "execution_count": null,
   "metadata": {},
   "outputs": [],
   "source": [
    "cd(BUILD_PARENT_DIR, 'cytoscape-manual')\n",
    "!git tag {NEW_VERSION}"
   ]
  },
  {
   "cell_type": "markdown",
   "metadata": {},
   "source": [
    "### Update cytoscape-admin-scripts"
   ]
  },
  {
   "cell_type": "code",
   "execution_count": null,
   "metadata": {},
   "outputs": [],
   "source": [
    "#system-checker files are in this repo\n",
    "cd(BUILD_PARENT_DIR)\n",
    "!ls system-checker/* | xargs sed -i \"\" -e \"s/{OLD_RELEASE_VERSION}/{NEW_VERSION}/g\"\n",
    "!git add .\n",
    "!git commit -m \"Updated system checker\""
   ]
  },
  {
   "cell_type": "markdown",
   "metadata": {},
   "source": [
    "### Publish the manual, website, and create a release on github\n",
    "Check status before pushing!"
   ]
  },
  {
   "cell_type": "code",
   "execution_count": null,
   "metadata": {},
   "outputs": [],
   "source": [
    "# Bump up the system checker scripts\n",
    "cd(BUILD_PARENT_DIR)\n",
    "!git status\n",
    "#!git push\n",
    "\n",
    "# Tag and publish Manual\n",
    "cd(BUILD_PARENT_DIR, 'cytoscape-manual')\n",
    "!git status\n",
    "#!git push origin {NEW_VERSION}\n",
    "\n",
    "# Update website\n",
    "cd(BUILD_PARENT_DIR, 'cytoscape.github.com')\n",
    "!git status\n",
    "#!git push"
   ]
  },
  {
   "cell_type": "markdown",
   "metadata": {},
   "source": [
    "### Update the file at /data/chianti/html/cytoscape-news/news.html"
   ]
  },
  {
   "cell_type": "code",
   "execution_count": 17,
   "metadata": {},
   "outputs": [
    {
     "name": "stdout",
     "output_type": "stream",
     "text": [
      "<meta name=\"latestVersion\" content=\"3.7.1\">\r\n"
     ]
    }
   ],
   "source": [
    "!curl --silent http://chianti.ucsd.edu/cytoscape-news/news.html | grep \"latestVersion\""
   ]
  },
  {
   "cell_type": "markdown",
   "metadata": {},
   "source": [
    "### Announce the release on app-dev, cytoscape-announce, cytostaff"
   ]
  },
  {
   "cell_type": "code",
   "execution_count": null,
   "metadata": {},
   "outputs": [],
   "source": [
    "updates = [\n",
    "    'LIST',\n",
    "    'UPDATES',\n",
    "    'HERE'\n",
    "]\n",
    "update_list = '\\n'.join([' - ' + update for update in updates])\n",
    "welcome_letter = 'http://www.cytoscape.org/cy3_welcome_letter_v20.pdf'\n",
    "release_notes = 'http://www.cytoscape.org/release_notes_3_7_1.html'\n",
    "message = '''Cytoscape {version} is released!\n",
    "\n",
    "=+=+ =+=+ =+=+ =+=+ =+=+ Hello Cytoscapers! =+=+ =+=+ =+=+ =+=+ =+=+\n",
    " \n",
    "We're very pleased and excited to announce availability of Cytoscape {version}, effective immediately!\n",
    "\n",
    "To get a copy, surf to http://cytoscape.org/download, and download and execute the installer for your workstation.\n",
    "\n",
    "There are many new and exciting features in {version}, including:\n",
    "{update_list}\n",
    "\n",
    "Note that with {version}, Windows & Mac systems can run Java 9 or 10 without conflicting with Cytoscape -- it installs and uses a private Java 8.\n",
    "\n",
    "For Linux, you must be sure Java 8 is installed and is first on the PATH or is named via the JAVA_HOME environment variable.\n",
    "\n",
    "If you find any issues with this release, please let us know by posting to cytoscape-helpdesk@googlegroups.com … we very much value your feedback!\n",
    "\n",
    "Please check the {version} materials in our Welcome Letter ({welcome_letter}) and the Release Notes ({release_notes}).\n",
    "\n",
    "Tell all your friends ...\n",
    "\n",
    "We appreciate your checking this out, and we hope you find it as great to work with as we do!\n",
    "\n",
    "=+=+ =+=+ =+=+ =+=+ =+=+ =+=+ =+=+ =+=+ =+=+ =+=+'''\n",
    "print(message.format(version=NEW_VERSION, update_list=update_list, \n",
    "                     welcome_letter=welcome_letter, release_notes=release_notes))"
   ]
  },
  {
   "cell_type": "code",
   "execution_count": null,
   "metadata": {},
   "outputs": [],
   "source": []
  }
 ],
 "metadata": {
  "kernelspec": {
   "display_name": "Python 3",
   "language": "python",
   "name": "python3"
  },
  "language_info": {
   "codemirror_mode": {
    "name": "ipython",
    "version": 3
   },
   "file_extension": ".py",
   "mimetype": "text/x-python",
   "name": "python",
   "nbconvert_exporter": "python",
   "pygments_lexer": "ipython3",
   "version": "3.7.0"
  }
 },
 "nbformat": 4,
 "nbformat_minor": 2
}
